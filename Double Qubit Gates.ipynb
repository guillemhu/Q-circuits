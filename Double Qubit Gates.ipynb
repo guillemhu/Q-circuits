{
 "cells": [
  {
   "cell_type": "markdown",
   "metadata": {},
   "source": [
    "### Double Qubits Gates"
   ]
  },
  {
   "cell_type": "code",
   "execution_count": 1,
   "metadata": {},
   "outputs": [],
   "source": [
    "# Useful additional packages\n",
    "import matplotlib.pyplot as plt\n",
    "%matplotlib inline\n",
    "import numpy as np\n",
    "from math import pi"
   ]
  },
  {
   "cell_type": "code",
   "execution_count": 2,
   "metadata": {},
   "outputs": [],
   "source": [
    "from qiskit import QuantumCircuit, ClassicalRegister, QuantumRegister, execute\n",
    "from qiskit.tools.visualization import circuit_drawer\n",
    "from qiskit.quantum_info import state_fidelity\n",
    "from qiskit import BasicAer\n",
    "\n",
    "backend = BasicAer.get_backend('unitary_simulator')"
   ]
  },
  {
   "cell_type": "markdown",
   "metadata": {},
   "source": [
    "##### Controlled Phase Rotation"
   ]
  },
  {
   "cell_type": "code",
   "execution_count": 3,
   "metadata": {},
   "outputs": [
    {
     "data": {
      "image/png": "[encoded data removed]",
      "text/plain": [
       "<Figure size 240.8x138.46 with 1 Axes>"
      ]
     },
     "execution_count": 3,
     "metadata": {},
     "output_type": "execute_result"
    }
   ],
   "source": [
    "q = QuantumRegister(2)\n",
    "qc = QuantumCircuit(q)\n",
    "qc.cu1(pi/2,q[0], q[1])\n",
    "qc.draw(output='mpl')"
   ]
  },
  {
   "cell_type": "code",
   "execution_count": 4,
   "metadata": {},
   "outputs": [
    {
     "data": {
      "text/plain": [
       "array([[1.+0.j, 0.+0.j, 0.+0.j, 0.+0.j],\n",
       "       [0.+0.j, 1.+0.j, 0.+0.j, 0.+0.j],\n",
       "       [0.+0.j, 0.+0.j, 1.+0.j, 0.+0.j],\n",
       "       [0.+0.j, 0.+0.j, 0.+0.j, 0.+1.j]])"
      ]
     },
     "execution_count": 4,
     "metadata": {},
     "output_type": "execute_result"
    }
   ],
   "source": [
    "job = execute(qc, backend)\n",
    "job.result().get_unitary(qc, decimals=3)"
   ]
  },
  {
   "cell_type": "markdown",
   "metadata": {},
   "source": [
    "-------------------"
   ]
  },
  {
   "cell_type": "markdown",
   "metadata": {},
   "source": [
    "$ (I \\otimes I \\otimes U_3)  \\times (I \\otimes CU_1 ) \\times (I \\otimes U_3 \\otimes I)  \\times (CU_1 \\otimes I) \\times (U_3 \\otimes I \\otimes I)$"
   ]
  },
  {
   "cell_type": "code",
   "execution_count": 5,
   "metadata": {},
   "outputs": [
    {
     "data": {
      "image/png": "[encoded data removed]",
      "text/plain": [
       "<Figure size 662.2x198.66 with 1 Axes>"
      ]
     },
     "execution_count": 5,
     "metadata": {},
     "output_type": "execute_result"
    }
   ],
   "source": [
    "q = QuantumRegister(3)\n",
    "qc = QuantumCircuit(q)\n",
    "\n",
    "qc.u3(pi/2,pi/2,pi/2,q[0])\n",
    "qc.cu1(pi/2,q[0], q[1])\n",
    "qc.u3(pi/2,pi/2,pi/2,q[1])\n",
    "qc.cu1(pi/2,q[1], q[2])\n",
    "qc.u3(pi/2,pi/2,pi/2,q[2])\n",
    "\n",
    "qc.draw(output='mpl')"
   ]
  },
  {
   "cell_type": "code",
   "execution_count": 6,
   "metadata": {},
   "outputs": [
    {
     "data": {
      "text/plain": [
       "array([[ 0.354+0.j   ,  0.   -0.354j,  0.   -0.354j, -0.354+0.j   ,\n",
       "         0.   -0.354j, -0.354+0.j   , -0.354+0.j   ,  0.   +0.354j],\n",
       "       [ 0.   +0.354j, -0.354+0.j   ,  0.   +0.354j, -0.354+0.j   ,\n",
       "         0.354+0.j   ,  0.   +0.354j,  0.354+0.j   ,  0.   +0.354j],\n",
       "       [ 0.   +0.354j,  0.354+0.j   , -0.354+0.j   ,  0.   +0.354j,\n",
       "         0.   +0.354j,  0.354+0.j   , -0.354+0.j   ,  0.   +0.354j],\n",
       "       [-0.354+0.j   ,  0.   -0.354j,  0.354+0.j   ,  0.   +0.354j,\n",
       "        -0.354+0.j   ,  0.   -0.354j,  0.354+0.j   ,  0.   +0.354j],\n",
       "       [ 0.   +0.354j,  0.354+0.j   ,  0.354+0.j   ,  0.   -0.354j,\n",
       "        -0.354+0.j   ,  0.   +0.354j,  0.   +0.354j,  0.354+0.j   ],\n",
       "       [-0.354+0.j   ,  0.   -0.354j, -0.354+0.j   ,  0.   -0.354j,\n",
       "         0.   -0.354j,  0.354+0.j   ,  0.   -0.354j,  0.354+0.j   ],\n",
       "       [-0.354+0.j   ,  0.   +0.354j,  0.   -0.354j, -0.354+0.j   ,\n",
       "         0.354+0.j   ,  0.   -0.354j,  0.   +0.354j,  0.354+0.j   ],\n",
       "       [ 0.   -0.354j,  0.354+0.j   ,  0.   +0.354j, -0.354+0.j   ,\n",
       "         0.   +0.354j, -0.354+0.j   ,  0.   -0.354j,  0.354+0.j   ]])"
      ]
     },
     "execution_count": 6,
     "metadata": {},
     "output_type": "execute_result"
    }
   ],
   "source": [
    "job = execute(qc, backend)\n",
    "job.result().get_unitary(qc, decimals=3)"
   ]
  },
  {
   "cell_type": "code",
   "execution_count": null,
   "metadata": {},
   "outputs": [],
   "source": []
  }
 ],
 "metadata": {
  "kernelspec": {
   "display_name": "Python 3",
   "language": "python",
   "name": "python3"
  },
  "language_info": {
   "codemirror_mode": {
    "name": "ipython",
    "version": 3
   },
   "file_extension": ".py",
   "mimetype": "text/x-python",
   "name": "python",
   "nbconvert_exporter": "python",
   "pygments_lexer": "ipython3",
   "version": "3.7.1"
  }
 },
 "nbformat": 4,
 "nbformat_minor": 2
}
